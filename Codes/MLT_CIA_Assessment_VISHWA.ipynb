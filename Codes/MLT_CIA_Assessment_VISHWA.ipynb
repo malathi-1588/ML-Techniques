{
 "cells": [
  {
   "cell_type": "markdown",
   "metadata": {
    "id": "Dmw1nUQ-KhP6"
   },
   "source": [
    "Using the CIFAR-10 dataset, train a Convolutional Neural Network to classify images. The model should have at least 3 convolutional layers and 2 fully connected layers. Evaluate the model's performance on a validation set and report the accuracy. Finally, use the model to classify a few sample images from the test set and report the predictions.\n",
    " \n",
    " \n",
    "Upload the code and output screenshots in github and share me the link on or before 16th April. No extensions will be given. Those who submit plagiarised code will not get any marks for the CIA."
   ]
  },
  {
   "cell_type": "code",
   "execution_count": 2,
   "metadata": {
    "id": "zdaqfPe0N_SG"
   },
   "outputs": [],
   "source": [
    "import numpy as np\n",
    "import matplotlib.pyplot as plt\n",
    "import tensorflow as tf\n",
    "from tensorflow.keras import datasets, layers, models, optimizers, losses\n",
    "#from keras.utils import to_categorical\n",
    "from sklearn.model_selection import train_test_split\n",
    "\n",
    "# Parameters\n",
    "batch_size = 64\n",
    "num_classes = 10\n",
    "epochs = 10\n",
    "learning_rate = 0.01"
   ]
  },
  {
   "cell_type": "code",
   "execution_count": 3,
   "metadata": {
    "id": "KqqfnfH3ODqW"
   },
   "outputs": [],
   "source": [
    "# Import data\n",
    "(train_images, train_labels), (test_images, test_labels) = datasets.cifar10.load_data()\n",
    "\n",
    "# Normalize pixel values to be between -1 and 1\n",
    "train_images = train_images / 255.0 * 2 - 1\n",
    "test_images = test_images / 255.0 * 2 - 1"
   ]
  },
  {
   "cell_type": "code",
   "execution_count": 4,
   "metadata": {
    "id": "1BZQ7X_fOGdK"
   },
   "outputs": [],
   "source": [
    "# Validation Set\n",
    "train_images, train_val, train_labels, train_labels_val = train_test_split(train_images, train_labels, test_size=0.2, random_state=42)"
   ]
  },
  {
   "cell_type": "code",
   "execution_count": null,
   "metadata": {
    "id": "HJQZsr0_OM46"
   },
   "outputs": [],
   "source": [
    "model = models.Sequential([\n",
    "    layers.Conv2D(32, (3, 3), activation='relu', input_shape=(32, 32, 3)),\n",
    "    layers.Conv2D(64, (3, 3), activation='relu'),\n",
    "    layers.MaxPooling2D(pool_size=(2, 2)),\n",
    "    layers.Conv2D(128, (3, 3), activation='relu'),\n",
    "    layers.MaxPooling2D(pool_size=(2, 2)),\n",
    "    layers.Flatten(),\n",
    "    layers.Dense(120, activation='relu'),\n",
    "    layers.Dense(84, activation='relu'),\n",
    "    layers.Dense(num_classes, activation='softmax')\n",
    "])"
   ]
  },
  {
   "cell_type": "code",
   "execution_count": null,
   "metadata": {
    "colab": {
     "base_uri": "https://localhost:8080/"
    },
    "id": "lQdCobivOPrN",
    "outputId": "9e041fb6-e3c5-4068-cf40-7fcae610291b"
   },
   "outputs": [
    {
     "name": "stdout",
     "output_type": "stream",
     "text": [
      "Epoch 1/10\n",
      "625/625 [==============================] - 216s 344ms/step - loss: 2.3269 - accuracy: 0.0997 - val_loss: 2.3053 - val_accuracy: 0.0933\n",
      "Epoch 2/10\n",
      "625/625 [==============================] - 205s 329ms/step - loss: 2.3037 - accuracy: 0.0994 - val_loss: 2.3054 - val_accuracy: 0.0933\n",
      "Epoch 3/10\n",
      "625/625 [==============================] - 213s 340ms/step - loss: 2.3036 - accuracy: 0.1002 - val_loss: 2.3037 - val_accuracy: 0.1017\n",
      "Epoch 4/10\n",
      "625/625 [==============================] - 214s 342ms/step - loss: 2.3037 - accuracy: 0.0984 - val_loss: 2.3032 - val_accuracy: 0.0973\n",
      "Epoch 5/10\n",
      "625/625 [==============================] - 204s 327ms/step - loss: 2.3038 - accuracy: 0.0975 - val_loss: 2.3028 - val_accuracy: 0.1017\n",
      "Epoch 6/10\n",
      "625/625 [==============================] - 212s 339ms/step - loss: 2.3035 - accuracy: 0.1005 - val_loss: 2.3041 - val_accuracy: 0.0979\n",
      "Epoch 7/10\n",
      "625/625 [==============================] - 213s 340ms/step - loss: 2.3039 - accuracy: 0.1009 - val_loss: 2.3035 - val_accuracy: 0.0973\n",
      "Epoch 8/10\n",
      "625/625 [==============================] - 213s 341ms/step - loss: 2.3035 - accuracy: 0.0994 - val_loss: 2.3054 - val_accuracy: 0.0973\n",
      "Epoch 9/10\n",
      "625/625 [==============================] - 212s 340ms/step - loss: 2.3037 - accuracy: 0.1002 - val_loss: 2.3031 - val_accuracy: 0.0994\n",
      "Epoch 10/10\n",
      "625/625 [==============================] - 213s 341ms/step - loss: 2.3038 - accuracy: 0.0994 - val_loss: 2.3035 - val_accuracy: 0.1015\n"
     ]
    },
    {
     "data": {
      "text/plain": [
       "<keras.callbacks.History at 0x7fd328f8b9a0>"
      ]
     },
     "execution_count": 9,
     "metadata": {},
     "output_type": "execute_result"
    }
   ],
   "source": [
    "model.compile(optimizer = optimizers.Adam(learning_rate=learning_rate),\n",
    "              loss = losses.SparseCategoricalCrossentropy(),\n",
    "              metrics=['accuracy'])\n",
    "\n",
    "\n",
    "model.fit(train_images, train_labels, epochs = epochs, batch_size = batch_size, validation_data=(train_val, train_labels_val))"
   ]
  },
  {
   "cell_type": "code",
   "execution_count": null,
   "metadata": {
    "colab": {
     "base_uri": "https://localhost:8080/"
    },
    "id": "yILZJj3BOVYz",
    "outputId": "f245259d-b3fa-4e37-c924-2936318844b8"
   },
   "outputs": [
    {
     "name": "stdout",
     "output_type": "stream",
     "text": [
      "Test loss: 2.303311586380005\n",
      "Test accuracy: 0.10000000149011612\n"
     ]
    }
   ],
   "source": [
    "score = model.evaluate(test_images, test_labels, verbose = 0)\n",
    "print('Test loss:', score[0])\n",
    "print('Test accuracy:', score[1])"
   ]
  },
  {
   "cell_type": "code",
   "execution_count": null,
   "metadata": {
    "colab": {
     "base_uri": "https://localhost:8080/",
     "height": 1000
    },
    "id": "u3MawHOfOXkY",
    "outputId": "f6092d3b-5f35-47f7-bf52-f19242e017e3"
   },
   "outputs": [
    {
     "name": "stdout",
     "output_type": "stream",
     "text": [
      "1/1 [==============================] - 0s 31ms/step\n"
     ]
    },
    {
     "name": "stderr",
     "output_type": "stream",
     "text": [
      "WARNING:matplotlib.image:Clipping input data to the valid range for imshow with RGB data ([0..1] for floats or [0..255] for integers).\n"
     ]
    },
    {
     "data": {
      "image/png": "[encoded data removed]",
      "text/plain": [
       "<Figure size 640x480 with 1 Axes>"
      ]
     },
     "metadata": {},
     "output_type": "display_data"
    },
    {
     "name": "stderr",
     "output_type": "stream",
     "text": [
      "WARNING:matplotlib.image:Clipping input data to the valid range for imshow with RGB data ([0..1] for floats or [0..255] for integers).\n"
     ]
    },
    {
     "name": "stdout",
     "output_type": "stream",
     "text": [
      "Actual label: [3]\n",
      "Predicted label: 5\n",
      "\n",
      "\n",
      "\n"
     ]
    },
    {
     "data": {
      "image/png": "[encoded data removed]",
      "text/plain": [
       "<Figure size 640x480 with 1 Axes>"
      ]
     },
     "metadata": {},
     "output_type": "display_data"
    },
    {
     "name": "stderr",
     "output_type": "stream",
     "text": [
      "WARNING:matplotlib.image:Clipping input data to the valid range for imshow with RGB data ([0..1] for floats or [0..255] for integers).\n"
     ]
    },
    {
     "name": "stdout",
     "output_type": "stream",
     "text": [
      "Actual label: [8]\n",
      "Predicted label: 5\n",
      "\n",
      "\n",
      "\n"
     ]
    },
    {
     "data": {
      "image/png": "[encoded data removed]",
      "text/plain": [
       "<Figure size 640x480 with 1 Axes>"
      ]
     },
     "metadata": {},
     "output_type": "display_data"
    },
    {
     "name": "stderr",
     "output_type": "stream",
     "text": [
      "WARNING:matplotlib.image:Clipping input data to the valid range for imshow with RGB data ([0..1] for floats or [0..255] for integers).\n"
     ]
    },
    {
     "name": "stdout",
     "output_type": "stream",
     "text": [
      "Actual label: [8]\n",
      "Predicted label: 5\n",
      "\n",
      "\n",
      "\n"
     ]
    },
    {
     "data": {
      "image/png": "[encoded data removed]",
      "text/plain": [
       "<Figure size 640x480 with 1 Axes>"
      ]
     },
     "metadata": {},
     "output_type": "display_data"
    },
    {
     "name": "stderr",
     "output_type": "stream",
     "text": [
      "WARNING:matplotlib.image:Clipping input data to the valid range for imshow with RGB data ([0..1] for floats or [0..255] for integers).\n"
     ]
    },
    {
     "name": "stdout",
     "output_type": "stream",
     "text": [
      "Actual label: [0]\n",
      "Predicted label: 5\n",
      "\n",
      "\n",
      "\n"
     ]
    },
    {
     "data": {
      "image/png": "[encoded data removed]",
      "text/plain": [
       "<Figure size 640x480 with 1 Axes>"
      ]
     },
     "metadata": {},
     "output_type": "display_data"
    },
    {
     "name": "stdout",
     "output_type": "stream",
     "text": [
      "Actual label: [6]\n",
      "Predicted label: 5\n",
      "\n",
      "\n",
      "\n"
     ]
    }
   ],
   "source": [
    "# Classify a few samples from the set\n",
    "num_samples = 5\n",
    "predictions = model.predict(test_images[:num_samples])\n",
    "predicted_classes = np.argmax(predictions, axis=-1)\n",
    "\n",
    "for i in range(num_samples):\n",
    "  # Show image\n",
    "  plt.imshow(test_images[i])\n",
    "  plt.show()\n",
    "  \n",
    "  print(\"Actual label:\", test_labels[i])\n",
    "  print(\"Predicted label:\", predicted_classes[i])\n",
    "  print(\"\\n\\n\")"
   ]
  },
  {
   "cell_type": "code",
   "execution_count": 5,
   "metadata": {},
   "outputs": [
    {
     "data": {
      "text/plain": [
       "array([[[ 0.84313725,  0.84313725,  0.84313725],\n",
       "        [ 0.81176471,  0.81176471,  0.81176471],\n",
       "        [ 0.81960784,  0.81960784,  0.81960784],\n",
       "        ...,\n",
       "        [ 0.82745098,  0.82745098,  0.82745098],\n",
       "        [ 0.82745098,  0.82745098,  0.82745098],\n",
       "        [ 0.81960784,  0.81960784,  0.81960784]],\n",
       "\n",
       "       [[ 0.86666667,  0.86666667,  0.86666667],\n",
       "        [ 0.84313725,  0.84313725,  0.84313725],\n",
       "        [ 0.84313725,  0.84313725,  0.84313725],\n",
       "        ...,\n",
       "        [ 0.85098039,  0.85098039,  0.85098039],\n",
       "        [ 0.85098039,  0.85098039,  0.85098039],\n",
       "        [ 0.84313725,  0.84313725,  0.84313725]],\n",
       "\n",
       "       [[ 0.85882353,  0.85882353,  0.85882353],\n",
       "        [ 0.83529412,  0.83529412,  0.83529412],\n",
       "        [ 0.83529412,  0.83529412,  0.83529412],\n",
       "        ...,\n",
       "        [ 0.84313725,  0.84313725,  0.84313725],\n",
       "        [ 0.84313725,  0.84313725,  0.84313725],\n",
       "        [ 0.83529412,  0.83529412,  0.83529412]],\n",
       "\n",
       "       ...,\n",
       "\n",
       "       [[-0.31764706, -0.22352941, -0.30196078],\n",
       "        [-0.6627451 , -0.6       , -0.70980392],\n",
       "        [-0.85098039, -0.81960784, -0.91372549],\n",
       "        ...,\n",
       "        [ 0.3254902 ,  0.44313725,  0.40392157],\n",
       "        [ 0.42745098,  0.54509804,  0.51372549],\n",
       "        [ 0.4745098 ,  0.58431373,  0.57647059]],\n",
       "\n",
       "       [[-0.35686275, -0.24705882, -0.35686275],\n",
       "        [-0.63921569, -0.55294118, -0.71764706],\n",
       "        [-0.71764706, -0.65490196, -0.82745098],\n",
       "        ...,\n",
       "        [ 0.36470588,  0.48235294,  0.43529412],\n",
       "        [ 0.45098039,  0.56862745,  0.5372549 ],\n",
       "        [ 0.46666667,  0.58431373,  0.56862745]],\n",
       "\n",
       "       [[-0.33333333, -0.20784314, -0.34901961],\n",
       "        [-0.51372549, -0.41176471, -0.62352941],\n",
       "        [-0.54509804, -0.4745098 , -0.70196078],\n",
       "        ...,\n",
       "        [ 0.31764706,  0.43529412,  0.39607843],\n",
       "        [ 0.41176471,  0.52941176,  0.49803922],\n",
       "        [ 0.45882353,  0.56862745,  0.56078431]]])"
      ]
     },
     "execution_count": 5,
     "metadata": {},
     "output_type": "execute_result"
    }
   ],
   "source": [
    "test_images[1]"
   ]
  },
  {
   "cell_type": "code",
   "execution_count": null,
   "metadata": {
    "id": "jUQrQFw0aCQF"
   },
   "outputs": [],
   "source": [
    "# Save the model\n",
    "model.save(\"CNNModel.h5\")\n",
    "\n",
    "# Load\n",
    "model = models.load_model(\"CNNModel.h5\")"
   ]
  },
  {
   "cell_type": "code",
   "execution_count": 8,
   "metadata": {},
   "outputs": [
    {
     "data": {
      "text/plain": [
       "array([[[[ 0.23921569, -0.12156863, -0.61568627],\n",
       "         [ 0.24705882, -0.12941176, -0.63137255],\n",
       "         [ 0.29411765, -0.09019608, -0.6       ],\n",
       "         ...,\n",
       "         [ 0.0745098 , -0.25490196, -0.71764706],\n",
       "         [-0.01176471, -0.28627451, -0.71764706],\n",
       "         [-0.09019608, -0.33333333, -0.74117647]],\n",
       "\n",
       "        [[ 0.19215686, -0.12156863, -0.6       ],\n",
       "         [ 0.18431373, -0.1372549 , -0.68627451],\n",
       "         [ 0.24705882, -0.10588235, -0.64705882],\n",
       "         ...,\n",
       "         [ 0.06666667, -0.25490196, -0.75686275],\n",
       "         [-0.01960784, -0.28627451, -0.74901961],\n",
       "         [-0.06666667, -0.30980392, -0.73333333]],\n",
       "\n",
       "        [[ 0.18431373, -0.1372549 , -0.63137255],\n",
       "         [ 0.18431373, -0.14509804, -0.74117647],\n",
       "         [ 0.23921569, -0.12941176, -0.71764706],\n",
       "         ...,\n",
       "         [ 0.09019608, -0.23137255, -0.73333333],\n",
       "         [ 0.01960784, -0.25490196, -0.73333333],\n",
       "         [-0.05882353, -0.30196078, -0.74117647]],\n",
       "\n",
       "        ...,\n",
       "\n",
       "        [[-0.46666667, -0.02745098,  0.38823529],\n",
       "         [-0.67058824, -0.21568627,  0.16078431],\n",
       "         [-0.75686275, -0.30980392,  0.0745098 ],\n",
       "         ...,\n",
       "         [-0.70196078, -0.23921569,  0.14509804],\n",
       "         [-0.89803922, -0.49803922, -0.15294118],\n",
       "         [-0.68627451, -0.33333333, -0.00392157]],\n",
       "\n",
       "        [[-0.52156863, -0.09019608,  0.31764706],\n",
       "         [-0.61568627, -0.2       ,  0.16078431],\n",
       "         [-0.7254902 , -0.33333333,  0.03529412],\n",
       "         ...,\n",
       "         [-0.79607843, -0.35686275,  0.01960784],\n",
       "         [-0.77254902, -0.35686275, -0.01176471],\n",
       "         [-0.84313725, -0.49803922, -0.16078431]],\n",
       "\n",
       "        [[-0.57647059, -0.16078431,  0.25490196],\n",
       "         [-0.56078431, -0.17647059,  0.16862745],\n",
       "         [-0.64705882, -0.30196078,  0.03529412],\n",
       "         ...,\n",
       "         [-0.81176471, -0.39607843, -0.02745098],\n",
       "         [-0.73333333, -0.34117647,  0.01176471],\n",
       "         [-0.83529412, -0.4745098 , -0.1372549 ]]],\n",
       "\n",
       "\n",
       "       [[[ 0.84313725,  0.84313725,  0.84313725],\n",
       "         [ 0.81176471,  0.81176471,  0.81176471],\n",
       "         [ 0.81960784,  0.81960784,  0.81960784],\n",
       "         ...,\n",
       "         [ 0.82745098,  0.82745098,  0.82745098],\n",
       "         [ 0.82745098,  0.82745098,  0.82745098],\n",
       "         [ 0.81960784,  0.81960784,  0.81960784]],\n",
       "\n",
       "        [[ 0.86666667,  0.86666667,  0.86666667],\n",
       "         [ 0.84313725,  0.84313725,  0.84313725],\n",
       "         [ 0.84313725,  0.84313725,  0.84313725],\n",
       "         ...,\n",
       "         [ 0.85098039,  0.85098039,  0.85098039],\n",
       "         [ 0.85098039,  0.85098039,  0.85098039],\n",
       "         [ 0.84313725,  0.84313725,  0.84313725]],\n",
       "\n",
       "        [[ 0.85882353,  0.85882353,  0.85882353],\n",
       "         [ 0.83529412,  0.83529412,  0.83529412],\n",
       "         [ 0.83529412,  0.83529412,  0.83529412],\n",
       "         ...,\n",
       "         [ 0.84313725,  0.84313725,  0.84313725],\n",
       "         [ 0.84313725,  0.84313725,  0.84313725],\n",
       "         [ 0.83529412,  0.83529412,  0.83529412]],\n",
       "\n",
       "        ...,\n",
       "\n",
       "        [[-0.31764706, -0.22352941, -0.30196078],\n",
       "         [-0.6627451 , -0.6       , -0.70980392],\n",
       "         [-0.85098039, -0.81960784, -0.91372549],\n",
       "         ...,\n",
       "         [ 0.3254902 ,  0.44313725,  0.40392157],\n",
       "         [ 0.42745098,  0.54509804,  0.51372549],\n",
       "         [ 0.4745098 ,  0.58431373,  0.57647059]],\n",
       "\n",
       "        [[-0.35686275, -0.24705882, -0.35686275],\n",
       "         [-0.63921569, -0.55294118, -0.71764706],\n",
       "         [-0.71764706, -0.65490196, -0.82745098],\n",
       "         ...,\n",
       "         [ 0.36470588,  0.48235294,  0.43529412],\n",
       "         [ 0.45098039,  0.56862745,  0.5372549 ],\n",
       "         [ 0.46666667,  0.58431373,  0.56862745]],\n",
       "\n",
       "        [[-0.33333333, -0.20784314, -0.34901961],\n",
       "         [-0.51372549, -0.41176471, -0.62352941],\n",
       "         [-0.54509804, -0.4745098 , -0.70196078],\n",
       "         ...,\n",
       "         [ 0.31764706,  0.43529412,  0.39607843],\n",
       "         [ 0.41176471,  0.52941176,  0.49803922],\n",
       "         [ 0.45882353,  0.56862745,  0.56078431]]],\n",
       "\n",
       "\n",
       "       [[[ 0.23921569,  0.49019608,  0.74117647],\n",
       "         [ 0.23921569,  0.46666667,  0.70980392],\n",
       "         [ 0.09019608,  0.30196078,  0.52156863],\n",
       "         ...,\n",
       "         [ 0.78823529,  0.81176471,  0.83529412],\n",
       "         [ 0.85882353,  0.8745098 ,  0.90588235],\n",
       "         [ 0.86666667,  0.89019608,  0.92941176]],\n",
       "\n",
       "        [[ 0.33333333,  0.56862745,  0.79607843],\n",
       "         [ 0.34901961,  0.56078431,  0.77254902],\n",
       "         [ 0.18431373,  0.38039216,  0.57647059],\n",
       "         ...,\n",
       "         [ 0.81960784,  0.81960784,  0.85098039],\n",
       "         [ 0.92941176,  0.92941176,  0.96078431],\n",
       "         [ 0.92941176,  0.9372549 ,  0.96862745]],\n",
       "\n",
       "        [[ 0.36470588,  0.57647059,  0.76470588],\n",
       "         [ 0.38039216,  0.56862745,  0.74117647],\n",
       "         [ 0.23137255,  0.40392157,  0.56078431],\n",
       "         ...,\n",
       "         [ 0.80392157,  0.79607843,  0.81960784],\n",
       "         [ 0.96078431,  0.95294118,  0.96862745],\n",
       "         [ 0.92156863,  0.91372549,  0.9372549 ]],\n",
       "\n",
       "        ...,\n",
       "\n",
       "        [[-0.75686275, -0.68627451, -0.64705882],\n",
       "         [-0.76470588, -0.69411765, -0.65490196],\n",
       "         [-0.79607843, -0.7254902 , -0.68627451],\n",
       "         ...,\n",
       "         [-0.70980392, -0.68627451, -0.63921569],\n",
       "         [-0.92941176, -0.89803922, -0.89019608],\n",
       "         [-0.96862745, -0.94509804, -0.96078431]],\n",
       "\n",
       "        [[-0.81960784, -0.73333333, -0.69411765],\n",
       "         [-0.78823529, -0.70196078, -0.6627451 ],\n",
       "         [-0.80392157, -0.71764706, -0.67843137],\n",
       "         ...,\n",
       "         [-0.85098039, -0.84313725, -0.81176471],\n",
       "         [-0.96862745, -0.95294118, -0.97647059],\n",
       "         [-0.96078431, -0.94509804, -0.97647059]],\n",
       "\n",
       "        [[-0.78039216, -0.67843137, -0.63137255],\n",
       "         [-0.76470588, -0.6627451 , -0.60784314],\n",
       "         [-0.74901961, -0.64705882, -0.59215686],\n",
       "         ...,\n",
       "         [-0.96078431, -0.95294118, -0.9372549 ],\n",
       "         [-0.96862745, -0.96078431, -0.97647059],\n",
       "         [-0.94509804, -0.9372549 , -0.94509804]]],\n",
       "\n",
       "\n",
       "       [[[ 0.21568627,  0.22352941,  0.16862745],\n",
       "         [ 0.30980392,  0.38039216,  0.46666667],\n",
       "         [ 0.38039216,  0.40392157,  0.51372549],\n",
       "         ...,\n",
       "         [ 0.57647059,  0.5372549 ,  0.63921569],\n",
       "         [ 0.58431373,  0.58431373,  0.6627451 ],\n",
       "         [ 0.50588235,  0.43529412,  0.34117647]],\n",
       "\n",
       "        [[ 0.2       ,  0.21568627,  0.23137255],\n",
       "         [ 0.27843137,  0.40392157,  0.6       ],\n",
       "         [ 0.34117647,  0.44313725,  0.68627451],\n",
       "         ...,\n",
       "         [ 0.58431373,  0.63137255,  0.74117647],\n",
       "         [ 0.59215686,  0.68627451,  0.78039216],\n",
       "         [ 0.48235294,  0.49019608,  0.43529412]],\n",
       "\n",
       "        [[ 0.21568627,  0.20784314,  0.2       ],\n",
       "         [ 0.25490196,  0.39607843,  0.57647059],\n",
       "         [ 0.31764706,  0.45098039,  0.67058824],\n",
       "         ...,\n",
       "         [ 0.61568627,  0.63137255,  0.68627451],\n",
       "         [ 0.6       ,  0.68627451,  0.75686275],\n",
       "         [ 0.48235294,  0.49803922,  0.44313725]],\n",
       "\n",
       "        ...,\n",
       "\n",
       "        [[-0.30196078, -0.38039216, -0.51372549],\n",
       "         [-0.55294118, -0.58431373, -0.59215686],\n",
       "         [-0.52156863, -0.52156863, -0.5372549 ],\n",
       "         ...,\n",
       "         [-0.30196078, -0.06666667, -0.20784314],\n",
       "         [-0.5372549 , -0.38039216, -0.51372549],\n",
       "         [-0.4745098 , -0.41960784, -0.60784314]],\n",
       "\n",
       "        [[-0.30196078, -0.35686275, -0.51372549],\n",
       "         [-0.52941176, -0.54509804, -0.58431373],\n",
       "         [-0.50588235, -0.48235294, -0.54509804],\n",
       "         ...,\n",
       "         [-0.55294118, -0.48235294, -0.54509804],\n",
       "         [-0.52156863, -0.49803922, -0.57647059],\n",
       "         [-0.41176471, -0.45882353, -0.6       ]],\n",
       "\n",
       "        [[-0.27843137, -0.38823529, -0.49803922],\n",
       "         [-0.52941176, -0.59215686, -0.6       ],\n",
       "         [-0.52156863, -0.54509804, -0.6       ],\n",
       "         ...,\n",
       "         [-0.52941176, -0.50588235, -0.60784314],\n",
       "         [-0.49803922, -0.49019608, -0.59215686],\n",
       "         [-0.42745098, -0.46666667, -0.60784314]]],\n",
       "\n",
       "\n",
       "       [[[-0.49019608, -0.46666667, -0.60784314],\n",
       "         [-0.45098039, -0.36470588, -0.49803922],\n",
       "         [-0.62352941, -0.49803922, -0.63921569],\n",
       "         ...,\n",
       "         [-0.6       , -0.4745098 , -0.67843137],\n",
       "         [-0.57647059, -0.40392157, -0.58431373],\n",
       "         [-0.4745098 , -0.31764706, -0.48235294]],\n",
       "\n",
       "        [[-0.45882353, -0.37254902, -0.54509804],\n",
       "         [-0.38039216, -0.2       , -0.36470588],\n",
       "         [-0.52941176, -0.41960784, -0.55294118],\n",
       "         ...,\n",
       "         [-0.57647059, -0.48235294, -0.65490196],\n",
       "         [-0.49019608, -0.29411765, -0.45882353],\n",
       "         [-0.52156863, -0.36470588, -0.48235294]],\n",
       "\n",
       "        [[-0.42745098, -0.25490196, -0.43529412],\n",
       "         [-0.34117647, -0.14509804, -0.31764706],\n",
       "         [-0.43529412, -0.30980392, -0.45098039],\n",
       "         ...,\n",
       "         [-0.38823529, -0.23137255, -0.41176471],\n",
       "         [-0.42745098, -0.23137255, -0.39607843],\n",
       "         [-0.62352941, -0.5372549 , -0.6       ]],\n",
       "\n",
       "        ...,\n",
       "\n",
       "        [[-0.25490196, -0.00392157, -0.27843137],\n",
       "         [-0.28627451, -0.03529412, -0.3254902 ],\n",
       "         [-0.55294118, -0.38039216, -0.64705882],\n",
       "         ...,\n",
       "         [ 0.12941176,  0.34901961, -0.15294118],\n",
       "         [ 0.33333333,  0.57647059,  0.05098039],\n",
       "         [-0.04313725,  0.12156863, -0.23137255]],\n",
       "\n",
       "        [[-0.2627451 , -0.01960784, -0.35686275],\n",
       "         [-0.41176471, -0.18431373, -0.44313725],\n",
       "         [-0.74901961, -0.59215686, -0.81176471],\n",
       "         ...,\n",
       "         [ 0.12156863,  0.41960784, -0.09019608],\n",
       "         [ 0.20784314,  0.4745098 , -0.03529412],\n",
       "         [-0.16862745,  0.01176471, -0.30196078]],\n",
       "\n",
       "        [[-0.38823529, -0.2       , -0.49019608],\n",
       "         [-0.7254902 , -0.6       , -0.78823529],\n",
       "         [-0.81176471, -0.68627451, -0.86666667],\n",
       "         ...,\n",
       "         [ 0.12156863,  0.40392157,  0.06666667],\n",
       "         [ 0.20784314,  0.45098039,  0.14509804],\n",
       "         [ 0.00392157,  0.22352941, -0.08235294]]]])"
      ]
     },
     "execution_count": 8,
     "metadata": {},
     "output_type": "execute_result"
    }
   ],
   "source": [
    "test_images[:5]"
   ]
  },
  {
   "cell_type": "code",
   "execution_count": null,
   "metadata": {},
   "outputs": [],
   "source": []
  }
 ],
 "metadata": {
  "colab": {
   "provenance": []
  },
  "kernelspec": {
   "display_name": "Python 3 (ipykernel)",
   "language": "python",
   "name": "python3"
  },
  "language_info": {
   "codemirror_mode": {
    "name": "ipython",
    "version": 3
   },
   "file_extension": ".py",
   "mimetype": "text/x-python",
   "name": "python",
   "nbconvert_exporter": "python",
   "pygments_lexer": "ipython3",
   "version": "3.8.13"
  }
 },
 "nbformat": 4,
 "nbformat_minor": 1
}
