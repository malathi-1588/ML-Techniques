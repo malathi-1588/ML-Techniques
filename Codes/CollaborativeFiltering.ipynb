{
 "cells": [
  {
   "cell_type": "code",
   "execution_count": 1,
   "id": "318adb91",
   "metadata": {},
   "outputs": [],
   "source": [
    "import pandas as pd\n",
    "import numpy as np"
   ]
  },
  {
   "cell_type": "code",
   "execution_count": 2,
   "id": "d7133696",
   "metadata": {},
   "outputs": [],
   "source": [
    "data = {\n",
    "    \"user\" : [1,1,1,2,2,3,3,3,3,3,4,4,4,5,5,5,5,6,6,7,7,8,8,9,9,10,10,11,11,11,11,11,11,12,12],\n",
    "    \"movie\": [1,3,6,3,4,1,2,4,5,6,2,3,5,3,4,5,6,1,5,2,3,4,6,1,3, 2, 3, 1, 2, 3, 4, 5, 6, 2, 5],\n",
    "    \"rating\":[1,2,1,4,2,3,5,4,4,3,4,1,3,2,5,4,3,5,2,4,3,4,2,5,4, 2, 3, 4, 1, 5, 2, 2, 4, 3, 5]\n",
    "}"
   ]
  },
  {
   "cell_type": "code",
   "execution_count": 3,
   "id": "a97f8d3f",
   "metadata": {},
   "outputs": [],
   "source": [
    "data = pd.DataFrame(data)"
   ]
  },
  {
   "cell_type": "code",
   "execution_count": 4,
   "id": "c9749538",
   "metadata": {},
   "outputs": [
    {
     "data": {
      "text/html": [
       "<div>\n",
       "<style scoped>\n",
       "    .dataframe tbody tr th:only-of-type {\n",
       "        vertical-align: middle;\n",
       "    }\n",
       "\n",
       "    .dataframe tbody tr th {\n",
       "        vertical-align: top;\n",
       "    }\n",
       "\n",
       "    .dataframe thead th {\n",
       "        text-align: right;\n",
       "    }\n",
       "</style>\n",
       "<table border=\"1\" class=\"dataframe\">\n",
       "  <thead>\n",
       "    <tr style=\"text-align: right;\">\n",
       "      <th></th>\n",
       "      <th>user</th>\n",
       "      <th>movie</th>\n",
       "      <th>rating</th>\n",
       "    </tr>\n",
       "  </thead>\n",
       "  <tbody>\n",
       "    <tr>\n",
       "      <th>0</th>\n",
       "      <td>1</td>\n",
       "      <td>1</td>\n",
       "      <td>1</td>\n",
       "    </tr>\n",
       "    <tr>\n",
       "      <th>1</th>\n",
       "      <td>1</td>\n",
       "      <td>3</td>\n",
       "      <td>2</td>\n",
       "    </tr>\n",
       "    <tr>\n",
       "      <th>2</th>\n",
       "      <td>1</td>\n",
       "      <td>6</td>\n",
       "      <td>1</td>\n",
       "    </tr>\n",
       "    <tr>\n",
       "      <th>3</th>\n",
       "      <td>2</td>\n",
       "      <td>3</td>\n",
       "      <td>4</td>\n",
       "    </tr>\n",
       "    <tr>\n",
       "      <th>4</th>\n",
       "      <td>2</td>\n",
       "      <td>4</td>\n",
       "      <td>2</td>\n",
       "    </tr>\n",
       "    <tr>\n",
       "      <th>5</th>\n",
       "      <td>3</td>\n",
       "      <td>1</td>\n",
       "      <td>3</td>\n",
       "    </tr>\n",
       "    <tr>\n",
       "      <th>6</th>\n",
       "      <td>3</td>\n",
       "      <td>2</td>\n",
       "      <td>5</td>\n",
       "    </tr>\n",
       "    <tr>\n",
       "      <th>7</th>\n",
       "      <td>3</td>\n",
       "      <td>4</td>\n",
       "      <td>4</td>\n",
       "    </tr>\n",
       "    <tr>\n",
       "      <th>8</th>\n",
       "      <td>3</td>\n",
       "      <td>5</td>\n",
       "      <td>4</td>\n",
       "    </tr>\n",
       "    <tr>\n",
       "      <th>9</th>\n",
       "      <td>3</td>\n",
       "      <td>6</td>\n",
       "      <td>3</td>\n",
       "    </tr>\n",
       "    <tr>\n",
       "      <th>10</th>\n",
       "      <td>4</td>\n",
       "      <td>2</td>\n",
       "      <td>4</td>\n",
       "    </tr>\n",
       "    <tr>\n",
       "      <th>11</th>\n",
       "      <td>4</td>\n",
       "      <td>3</td>\n",
       "      <td>1</td>\n",
       "    </tr>\n",
       "    <tr>\n",
       "      <th>12</th>\n",
       "      <td>4</td>\n",
       "      <td>5</td>\n",
       "      <td>3</td>\n",
       "    </tr>\n",
       "    <tr>\n",
       "      <th>13</th>\n",
       "      <td>5</td>\n",
       "      <td>3</td>\n",
       "      <td>2</td>\n",
       "    </tr>\n",
       "    <tr>\n",
       "      <th>14</th>\n",
       "      <td>5</td>\n",
       "      <td>4</td>\n",
       "      <td>5</td>\n",
       "    </tr>\n",
       "    <tr>\n",
       "      <th>15</th>\n",
       "      <td>5</td>\n",
       "      <td>5</td>\n",
       "      <td>4</td>\n",
       "    </tr>\n",
       "    <tr>\n",
       "      <th>16</th>\n",
       "      <td>5</td>\n",
       "      <td>6</td>\n",
       "      <td>3</td>\n",
       "    </tr>\n",
       "    <tr>\n",
       "      <th>17</th>\n",
       "      <td>6</td>\n",
       "      <td>1</td>\n",
       "      <td>5</td>\n",
       "    </tr>\n",
       "    <tr>\n",
       "      <th>18</th>\n",
       "      <td>6</td>\n",
       "      <td>5</td>\n",
       "      <td>2</td>\n",
       "    </tr>\n",
       "    <tr>\n",
       "      <th>19</th>\n",
       "      <td>7</td>\n",
       "      <td>2</td>\n",
       "      <td>4</td>\n",
       "    </tr>\n",
       "    <tr>\n",
       "      <th>20</th>\n",
       "      <td>7</td>\n",
       "      <td>3</td>\n",
       "      <td>3</td>\n",
       "    </tr>\n",
       "    <tr>\n",
       "      <th>21</th>\n",
       "      <td>8</td>\n",
       "      <td>4</td>\n",
       "      <td>4</td>\n",
       "    </tr>\n",
       "    <tr>\n",
       "      <th>22</th>\n",
       "      <td>8</td>\n",
       "      <td>6</td>\n",
       "      <td>2</td>\n",
       "    </tr>\n",
       "    <tr>\n",
       "      <th>23</th>\n",
       "      <td>9</td>\n",
       "      <td>1</td>\n",
       "      <td>5</td>\n",
       "    </tr>\n",
       "    <tr>\n",
       "      <th>24</th>\n",
       "      <td>9</td>\n",
       "      <td>3</td>\n",
       "      <td>4</td>\n",
       "    </tr>\n",
       "    <tr>\n",
       "      <th>25</th>\n",
       "      <td>10</td>\n",
       "      <td>2</td>\n",
       "      <td>2</td>\n",
       "    </tr>\n",
       "    <tr>\n",
       "      <th>26</th>\n",
       "      <td>10</td>\n",
       "      <td>3</td>\n",
       "      <td>3</td>\n",
       "    </tr>\n",
       "    <tr>\n",
       "      <th>27</th>\n",
       "      <td>11</td>\n",
       "      <td>1</td>\n",
       "      <td>4</td>\n",
       "    </tr>\n",
       "    <tr>\n",
       "      <th>28</th>\n",
       "      <td>11</td>\n",
       "      <td>2</td>\n",
       "      <td>1</td>\n",
       "    </tr>\n",
       "    <tr>\n",
       "      <th>29</th>\n",
       "      <td>11</td>\n",
       "      <td>3</td>\n",
       "      <td>5</td>\n",
       "    </tr>\n",
       "    <tr>\n",
       "      <th>30</th>\n",
       "      <td>11</td>\n",
       "      <td>4</td>\n",
       "      <td>2</td>\n",
       "    </tr>\n",
       "    <tr>\n",
       "      <th>31</th>\n",
       "      <td>11</td>\n",
       "      <td>5</td>\n",
       "      <td>2</td>\n",
       "    </tr>\n",
       "    <tr>\n",
       "      <th>32</th>\n",
       "      <td>11</td>\n",
       "      <td>6</td>\n",
       "      <td>4</td>\n",
       "    </tr>\n",
       "    <tr>\n",
       "      <th>33</th>\n",
       "      <td>12</td>\n",
       "      <td>2</td>\n",
       "      <td>3</td>\n",
       "    </tr>\n",
       "    <tr>\n",
       "      <th>34</th>\n",
       "      <td>12</td>\n",
       "      <td>5</td>\n",
       "      <td>5</td>\n",
       "    </tr>\n",
       "  </tbody>\n",
       "</table>\n",
       "</div>"
      ],
      "text/plain": [
       "    user  movie  rating\n",
       "0      1      1       1\n",
       "1      1      3       2\n",
       "2      1      6       1\n",
       "3      2      3       4\n",
       "4      2      4       2\n",
       "5      3      1       3\n",
       "6      3      2       5\n",
       "7      3      4       4\n",
       "8      3      5       4\n",
       "9      3      6       3\n",
       "10     4      2       4\n",
       "11     4      3       1\n",
       "12     4      5       3\n",
       "13     5      3       2\n",
       "14     5      4       5\n",
       "15     5      5       4\n",
       "16     5      6       3\n",
       "17     6      1       5\n",
       "18     6      5       2\n",
       "19     7      2       4\n",
       "20     7      3       3\n",
       "21     8      4       4\n",
       "22     8      6       2\n",
       "23     9      1       5\n",
       "24     9      3       4\n",
       "25    10      2       2\n",
       "26    10      3       3\n",
       "27    11      1       4\n",
       "28    11      2       1\n",
       "29    11      3       5\n",
       "30    11      4       2\n",
       "31    11      5       2\n",
       "32    11      6       4\n",
       "33    12      2       3\n",
       "34    12      5       5"
      ]
     },
     "execution_count": 4,
     "metadata": {},
     "output_type": "execute_result"
    }
   ],
   "source": [
    "data"
   ]
  },
  {
   "cell_type": "code",
   "execution_count": 5,
   "id": "5b6d9464",
   "metadata": {},
   "outputs": [],
   "source": [
    "table = pd.DataFrame(columns = data[\"user\"].unique())"
   ]
  },
  {
   "cell_type": "code",
   "execution_count": 6,
   "id": "7278d41f",
   "metadata": {},
   "outputs": [],
   "source": [
    "table[\"Movie\"] = sorted(data[\"movie\"].unique())"
   ]
  },
  {
   "cell_type": "code",
   "execution_count": 7,
   "id": "766d358a",
   "metadata": {},
   "outputs": [],
   "source": [
    "table = table.set_index(\"Movie\")"
   ]
  },
  {
   "cell_type": "code",
   "execution_count": 8,
   "id": "bee95746",
   "metadata": {},
   "outputs": [],
   "source": [
    "for row in range(len(data)):\n",
    "    table.loc[data.loc[row, \"movie\"]][data.loc[row, \"user\"]] = data.loc[row, \"rating\"]"
   ]
  },
  {
   "cell_type": "code",
   "execution_count": 9,
   "id": "3fade08e",
   "metadata": {},
   "outputs": [
    {
     "data": {
      "text/plain": [
       "array([[1, nan, 2, nan, nan, 1],\n",
       "       [nan, nan, 4, 2, nan, nan],\n",
       "       [3, 5, nan, 4, 4, 3],\n",
       "       [nan, 4, 1, nan, 3, nan],\n",
       "       [nan, nan, 2, 5, 4, 3],\n",
       "       [5, nan, nan, nan, 2, nan],\n",
       "       [nan, 4, 3, nan, nan, nan],\n",
       "       [nan, nan, nan, 4, nan, 2],\n",
       "       [5, nan, 4, nan, nan, nan],\n",
       "       [nan, 2, 3, nan, nan, nan],\n",
       "       [4, 1, 5, 2, 2, 4],\n",
       "       [nan, 3, nan, nan, 5, nan]], dtype=object)"
      ]
     },
     "execution_count": 9,
     "metadata": {},
     "output_type": "execute_result"
    }
   ],
   "source": [
    "table = table.T.values\n",
    "table"
   ]
  },
  {
   "cell_type": "code",
   "execution_count": 10,
   "id": "ec3b6103",
   "metadata": {},
   "outputs": [
    {
     "data": {
      "text/plain": [
       "array([[1.33333333],\n",
       "       [3.        ],\n",
       "       [3.8       ],\n",
       "       [2.66666667],\n",
       "       [3.5       ],\n",
       "       [3.5       ],\n",
       "       [3.5       ],\n",
       "       [3.        ],\n",
       "       [4.5       ],\n",
       "       [2.5       ],\n",
       "       [3.        ],\n",
       "       [4.        ]])"
      ]
     },
     "execution_count": 10,
     "metadata": {},
     "output_type": "execute_result"
    }
   ],
   "source": [
    "means = pd.pivot_table(data, index = \"user\", values = \"rating\").values\n",
    "means"
   ]
  },
  {
   "cell_type": "markdown",
   "id": "943288d1",
   "metadata": {},
   "source": [
    "table -= means"
   ]
  },
  {
   "cell_type": "code",
   "execution_count": 11,
   "id": "28ccd623",
   "metadata": {},
   "outputs": [],
   "source": [
    "table = pd.DataFrame(table)"
   ]
  },
  {
   "cell_type": "code",
   "execution_count": 12,
   "id": "8632af84",
   "metadata": {},
   "outputs": [],
   "source": [
    "table = table.fillna(0).values"
   ]
  },
  {
   "cell_type": "code",
   "execution_count": 13,
   "id": "e6e0bc97",
   "metadata": {},
   "outputs": [],
   "source": [
    "def cosine_similiarity(client, table):\n",
    "    simScore = [0 for _ in range(len(table))]\n",
    "    client_mag = sum(client**2)**0.5\n",
    "    for userIndex in range(len(table)):\n",
    "        user = table[userIndex]        \n",
    "        simScore[userIndex] = np.dot(user, client)\n",
    "        mag = sum(user**2)**0.5\n",
    "        simScore[userIndex] /= mag*client_mag      \n",
    "    return simScore"
   ]
  },
  {
   "cell_type": "code",
   "execution_count": 14,
   "id": "40b40a69",
   "metadata": {},
   "outputs": [
    {
     "data": {
      "text/plain": [
       "[1.0000000000000002,\n",
       " 0.7302967433402214,\n",
       " 0.282842712474619,\n",
       " 0.16012815380508716,\n",
       " 0.3888888888888889,\n",
       " 0.37904902178945177,\n",
       " 0.48989794855663565,\n",
       " 0.18257418583505536,\n",
       " 0.8288497269823398,\n",
       " 0.6793662204867575,\n",
       " 0.9045340337332909,\n",
       " 0.0]"
      ]
     },
     "execution_count": 14,
     "metadata": {},
     "output_type": "execute_result"
    }
   ],
   "source": [
    "cosine_similiarity(table[0], table)"
   ]
  },
  {
   "cell_type": "code",
   "execution_count": 15,
   "id": "c2a1589d",
   "metadata": {},
   "outputs": [],
   "source": [
    "def fillRating(table, estimate, N = 2):\n",
    "    for r in range(len(table)):\n",
    "        row = table[r]\n",
    "        similiarity = cosine_similiarity(row, table)\n",
    "        similiarity.pop(r)\n",
    "        neighbours = np.argsort(similiarity)[::-1][:N]\n",
    "        \n",
    "        similiarity = np.array(similiarity)[neighbours]\n",
    "        similiarity/=sum(similiarity)\n",
    "        ratings = table[neighbours]\n",
    "        \n",
    "        e = np.dot(ratings.T, similiarity)  \n",
    "        indices = np.where(table[r] == 0)\n",
    "        for i in indices:\n",
    "            estimate[r][i] = e[i]\n",
    "        "
   ]
  },
  {
   "cell_type": "code",
   "execution_count": 16,
   "id": "df25e732",
   "metadata": {},
   "outputs": [],
   "source": [
    "estimatedRating = np.zeros((len(table), len(table[0])))"
   ]
  },
  {
   "cell_type": "code",
   "execution_count": 17,
   "id": "04425418",
   "metadata": {},
   "outputs": [],
   "source": [
    "fillRating(table, estimatedRating)"
   ]
  },
  {
   "cell_type": "code",
   "execution_count": 18,
   "id": "3087d8c3",
   "metadata": {},
   "outputs": [
    {
     "data": {
      "text/plain": [
       "array([[0.        , 1.04366275, 0.        , 1.91267449, 0.        ,\n",
       "        0.        ],\n",
       "       [3.0188696 , 0.        , 0.        , 0.        , 0.        ,\n",
       "        0.4952826 ],\n",
       "       [0.        , 0.        , 0.49387102, 0.        , 0.        ,\n",
       "        0.        ],\n",
       "       [4.45074636, 0.        , 0.        , 1.09850727, 0.        ,\n",
       "        2.19701455],\n",
       "       [1.41585446, 4.47195149, 0.        , 0.        , 0.        ,\n",
       "        0.        ],\n",
       "       [0.        , 0.86146493, 1.2921974 , 2.27707013, 0.        ,\n",
       "        1.13853507],\n",
       "       [2.79283455, 0.        , 0.        , 0.        , 1.32429927,\n",
       "        0.        ],\n",
       "       [1.25376858, 2.08961429, 1.16415428, 0.        , 4.        ,\n",
       "        0.        ],\n",
       "       [0.        , 0.96250881, 0.        , 0.        , 0.        ,\n",
       "        0.51874559],\n",
       "       [0.        , 0.        , 0.        , 0.88218227, 0.        ,\n",
       "        0.        ],\n",
       "       [0.        , 0.        , 0.        , 0.        , 0.        ,\n",
       "        0.        ],\n",
       "       [1.29858534, 0.        , 0.56713822, 1.73144711, 0.        ,\n",
       "        1.29858534]])"
      ]
     },
     "execution_count": 18,
     "metadata": {},
     "output_type": "execute_result"
    }
   ],
   "source": [
    "estimatedRating"
   ]
  },
  {
   "cell_type": "code",
   "execution_count": 19,
   "id": "1e9b6d89",
   "metadata": {},
   "outputs": [
    {
     "data": {
      "text/plain": [
       "array([[0., 1., 0., 2., 0., 0.],\n",
       "       [3., 0., 0., 0., 0., 0.],\n",
       "       [0., 0., 0., 0., 0., 0.],\n",
       "       [4., 0., 0., 1., 0., 2.],\n",
       "       [1., 4., 0., 0., 0., 0.],\n",
       "       [0., 1., 1., 2., 0., 1.],\n",
       "       [3., 0., 0., 0., 1., 0.],\n",
       "       [1., 2., 1., 0., 4., 0.],\n",
       "       [0., 1., 0., 0., 0., 1.],\n",
       "       [0., 0., 0., 1., 0., 0.],\n",
       "       [0., 0., 0., 0., 0., 0.],\n",
       "       [1., 0., 1., 2., 0., 1.]])"
      ]
     },
     "execution_count": 19,
     "metadata": {},
     "output_type": "execute_result"
    }
   ],
   "source": [
    "np.round(estimatedRating)"
   ]
  },
  {
   "cell_type": "code",
   "execution_count": 26,
   "id": "2631aed2",
   "metadata": {},
   "outputs": [],
   "source": [
    "def recommend(estimatedRating):\n",
    "    for u in range(len(estimatedRating)):\n",
    "        print(u, \" : \", np.where(estimatedRating[u] >= 3)[0])"
   ]
  },
  {
   "cell_type": "code",
   "execution_count": 27,
   "id": "4adc79bd",
   "metadata": {},
   "outputs": [
    {
     "name": "stdout",
     "output_type": "stream",
     "text": [
      "0  :  []\n",
      "1  :  [0]\n",
      "2  :  []\n",
      "3  :  [0]\n",
      "4  :  [1]\n",
      "5  :  []\n",
      "6  :  []\n",
      "7  :  [4]\n",
      "8  :  []\n",
      "9  :  []\n",
      "10  :  []\n",
      "11  :  []\n"
     ]
    }
   ],
   "source": [
    "recommend(estimatedRating)"
   ]
  },
  {
   "cell_type": "code",
   "execution_count": null,
   "id": "6a6aed5f",
   "metadata": {},
   "outputs": [],
   "source": []
  }
 ],
 "metadata": {
  "kernelspec": {
   "display_name": "Python 3 (ipykernel)",
   "language": "python",
   "name": "python3"
  },
  "language_info": {
   "codemirror_mode": {
    "name": "ipython",
    "version": 3
   },
   "file_extension": ".py",
   "mimetype": "text/x-python",
   "name": "python",
   "nbconvert_exporter": "python",
   "pygments_lexer": "ipython3",
   "version": "3.8.13"
  }
 },
 "nbformat": 4,
 "nbformat_minor": 5
}
