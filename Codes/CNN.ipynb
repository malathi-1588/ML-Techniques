{
 "cells": [
  {
   "cell_type": "code",
   "execution_count": 2,
   "id": "a7969bfa",
   "metadata": {},
   "outputs": [],
   "source": [
    "import tensorflow as tf\n",
    "from tensorflow import keras\n",
    "from keras.datasets import fashion_mnist"
   ]
  },
  {
   "cell_type": "code",
   "execution_count": 3,
   "id": "72ea908e",
   "metadata": {},
   "outputs": [],
   "source": [
    "(x_train,y_train),(x_test,y_test) = fashion_mnist.load_data()"
   ]
  },
  {
   "cell_type": "code",
   "execution_count": 4,
   "id": "b111396a",
   "metadata": {},
   "outputs": [],
   "source": [
    "import numpy as np\n",
    "\n",
    "x_train = x_train.reshape(len(x_train),28,28,1)\n",
    "x_test = x_test.reshape(len(x_test),28,28,1)\n",
    "\n",
    "x_train = x_train.astype(np.float32)/255\n",
    "x_test = x_test.astype(np.float32)/255\n",
    "\n",
    "y_train = keras.utils.to_categorical(y_train,num_classes = 10)\n",
    "y_test = keras.utils.to_categorical(y_test,num_classes = 10)"
   ]
  },
  {
   "cell_type": "code",
   "execution_count": 5,
   "id": "7569b68d",
   "metadata": {},
   "outputs": [
    {
     "data": {
      "text/plain": [
       "60000"
      ]
     },
     "execution_count": 5,
     "metadata": {},
     "output_type": "execute_result"
    }
   ],
   "source": [
    "len(x_train)"
   ]
  },
  {
   "cell_type": "code",
   "execution_count": 6,
   "id": "d78658d5",
   "metadata": {},
   "outputs": [
    {
     "data": {
      "image/png": "[encoded data removed]",
      "text/plain": [
       "<Figure size 640x480 with 9 Axes>"
      ]
     },
     "metadata": {},
     "output_type": "display_data"
    }
   ],
   "source": [
    "import matplotlib.pyplot as plt\n",
    "\n",
    "for i in range(9):\n",
    "    plt.subplot(330+1+i)\n",
    "    plt.imshow(x_train[i],cmap=plt.get_cmap('gray'))\n",
    "plt.show()"
   ]
  },
  {
   "cell_type": "code",
   "execution_count": null,
   "id": "3d348bab",
   "metadata": {},
   "outputs": [],
   "source": [
    "from keras import layers\n",
    "\n",
    "model = keras.Sequential([\n",
    "    layers.Conv2D(32,(3,3),input_shape = (28,28,1),activation='relu'),\n",
    "    layers.MaxPool2D((2,2)),\n",
    "    layers.Flatten(),\n",
    "    layers.Dense(100,activation='relu'),\n",
    "    layers.Dense(10,activation = 'softmax')\n",
    "])\n",
    "\n",
    "model.summary()"
   ]
  },
  {
   "cell_type": "code",
   "execution_count": 7,
   "id": "eeedcf42",
   "metadata": {},
   "outputs": [],
   "source": [
    "model.compile(optimizer='Adam',loss = 'categorical_crossentropy',metrics = ['accuracy'])"
   ]
  },
  {
   "cell_type": "code",
   "execution_count": 8,
   "id": "c774f638",
   "metadata": {},
   "outputs": [
    {
     "name": "stdout",
     "output_type": "stream",
     "text": [
      "Epoch 1/50\n",
      "469/469 [==============================] - 14s 29ms/step - loss: 0.4415 - accuracy: 0.8461\n",
      "Epoch 2/50\n",
      "469/469 [==============================] - 13s 29ms/step - loss: 0.2945 - accuracy: 0.8948\n",
      "Epoch 3/50\n",
      "469/469 [==============================] - 13s 29ms/step - loss: 0.2533 - accuracy: 0.9081\n",
      "Epoch 4/50\n",
      "469/469 [==============================] - 13s 29ms/step - loss: 0.2263 - accuracy: 0.9185\n",
      "Epoch 5/50\n",
      "469/469 [==============================] - 14s 30ms/step - loss: 0.2029 - accuracy: 0.9265\n",
      "Epoch 6/50\n",
      "469/469 [==============================] - 14s 31ms/step - loss: 0.1821 - accuracy: 0.9340\n",
      "Epoch 7/50\n",
      "469/469 [==============================] - 14s 31ms/step - loss: 0.1674 - accuracy: 0.9392\n",
      "Epoch 8/50\n",
      "469/469 [==============================] - 14s 31ms/step - loss: 0.1509 - accuracy: 0.9455\n",
      "Epoch 9/50\n",
      "469/469 [==============================] - 14s 29ms/step - loss: 0.1390 - accuracy: 0.9491\n",
      "Epoch 10/50\n",
      "469/469 [==============================] - 14s 29ms/step - loss: 0.1255 - accuracy: 0.9548\n",
      "Epoch 11/50\n",
      "469/469 [==============================] - 14s 29ms/step - loss: 0.1146 - accuracy: 0.9580\n",
      "Epoch 12/50\n",
      "469/469 [==============================] - 14s 29ms/step - loss: 0.1014 - accuracy: 0.9631\n",
      "Epoch 13/50\n",
      "469/469 [==============================] - 13s 29ms/step - loss: 0.0932 - accuracy: 0.9663\n",
      "Epoch 14/50\n",
      "469/469 [==============================] - 13s 29ms/step - loss: 0.0810 - accuracy: 0.9716\n",
      "Epoch 15/50\n",
      "469/469 [==============================] - 13s 29ms/step - loss: 0.0757 - accuracy: 0.9729\n",
      "Epoch 16/50\n",
      "469/469 [==============================] - 14s 29ms/step - loss: 0.0662 - accuracy: 0.9769\n",
      "Epoch 17/50\n",
      "469/469 [==============================] - 14s 30ms/step - loss: 0.0582 - accuracy: 0.9798\n",
      "Epoch 18/50\n",
      "469/469 [==============================] - 15s 32ms/step - loss: 0.0531 - accuracy: 0.9813\n",
      "Epoch 19/50\n",
      "469/469 [==============================] - 16s 34ms/step - loss: 0.0458 - accuracy: 0.9848\n",
      "Epoch 20/50\n",
      "469/469 [==============================] - 14s 30ms/step - loss: 0.0410 - accuracy: 0.9863\n",
      "Epoch 21/50\n",
      "469/469 [==============================] - 14s 29ms/step - loss: 0.0359 - accuracy: 0.9879\n",
      "Epoch 22/50\n",
      "469/469 [==============================] - 14s 31ms/step - loss: 0.0320 - accuracy: 0.9896\n",
      "Epoch 23/50\n",
      "469/469 [==============================] - 14s 29ms/step - loss: 0.0300 - accuracy: 0.9905\n",
      "Epoch 24/50\n",
      "469/469 [==============================] - 14s 30ms/step - loss: 0.0249 - accuracy: 0.9920\n",
      "Epoch 25/50\n",
      "469/469 [==============================] - 14s 30ms/step - loss: 0.0268 - accuracy: 0.9909\n",
      "Epoch 26/50\n",
      "469/469 [==============================] - 14s 29ms/step - loss: 0.0222 - accuracy: 0.9931\n",
      "Epoch 27/50\n",
      "469/469 [==============================] - 14s 30ms/step - loss: 0.0176 - accuracy: 0.9947\n",
      "Epoch 28/50\n",
      "469/469 [==============================] - 14s 29ms/step - loss: 0.0228 - accuracy: 0.9927\n",
      "Epoch 29/50\n",
      "469/469 [==============================] - 14s 30ms/step - loss: 0.0166 - accuracy: 0.9949\n",
      "Epoch 30/50\n",
      "469/469 [==============================] - 14s 30ms/step - loss: 0.0137 - accuracy: 0.9961\n",
      "Epoch 31/50\n",
      "469/469 [==============================] - 14s 29ms/step - loss: 0.0180 - accuracy: 0.9941\n",
      "Epoch 32/50\n",
      "469/469 [==============================] - 14s 29ms/step - loss: 0.0131 - accuracy: 0.9962\n",
      "Epoch 33/50\n",
      "469/469 [==============================] - 14s 30ms/step - loss: 0.0148 - accuracy: 0.9954\n",
      "Epoch 34/50\n",
      "469/469 [==============================] - 14s 30ms/step - loss: 0.0119 - accuracy: 0.9966\n",
      "Epoch 35/50\n",
      "469/469 [==============================] - 14s 31ms/step - loss: 0.0099 - accuracy: 0.9969\n",
      "Epoch 36/50\n",
      "469/469 [==============================] - 14s 31ms/step - loss: 0.0131 - accuracy: 0.9955\n",
      "Epoch 37/50\n",
      "469/469 [==============================] - 15s 31ms/step - loss: 0.0132 - accuracy: 0.9957\n",
      "Epoch 38/50\n",
      "469/469 [==============================] - 15s 31ms/step - loss: 0.0160 - accuracy: 0.9951\n",
      "Epoch 39/50\n",
      "469/469 [==============================] - 14s 31ms/step - loss: 0.0077 - accuracy: 0.9976\n",
      "Epoch 40/50\n",
      "469/469 [==============================] - 15s 31ms/step - loss: 0.0120 - accuracy: 0.9964\n",
      "Epoch 41/50\n",
      "469/469 [==============================] - 14s 31ms/step - loss: 0.0098 - accuracy: 0.9969\n",
      "Epoch 42/50\n",
      "469/469 [==============================] - 15s 31ms/step - loss: 0.0130 - accuracy: 0.9955\n",
      "Epoch 43/50\n",
      "469/469 [==============================] - 15s 32ms/step - loss: 0.0148 - accuracy: 0.9953\n",
      "Epoch 44/50\n",
      "469/469 [==============================] - 16s 34ms/step - loss: 0.0043 - accuracy: 0.9991\n",
      "Epoch 45/50\n",
      "469/469 [==============================] - 16s 34ms/step - loss: 0.0036 - accuracy: 0.9991\n",
      "Epoch 46/50\n",
      "469/469 [==============================] - 16s 34ms/step - loss: 0.0190 - accuracy: 0.9934\n",
      "Epoch 47/50\n",
      "469/469 [==============================] - 15s 32ms/step - loss: 0.0101 - accuracy: 0.9969\n",
      "Epoch 48/50\n",
      "469/469 [==============================] - 15s 31ms/step - loss: 0.0095 - accuracy: 0.9971\n",
      "Epoch 49/50\n",
      "469/469 [==============================] - 15s 31ms/step - loss: 0.0021 - accuracy: 0.9997\n",
      "Epoch 50/50\n",
      "469/469 [==============================] - 14s 31ms/step - loss: 0.0101 - accuracy: 0.9968\n"
     ]
    },
    {
     "data": {
      "text/plain": [
       "<keras.callbacks.History at 0x200c6a3fc70>"
      ]
     },
     "execution_count": 8,
     "metadata": {},
     "output_type": "execute_result"
    }
   ],
   "source": [
    "model.fit(x_train,y_train,batch_size = 128,epochs = 50)"
   ]
  },
  {
   "cell_type": "code",
   "execution_count": 9,
   "id": "a67652df",
   "metadata": {},
   "outputs": [
    {
     "name": "stdout",
     "output_type": "stream",
     "text": [
      "313/313 [==============================] - 1s 3ms/step - loss: 0.6520 - accuracy: 0.9134\n"
     ]
    }
   ],
   "source": [
    "loss,accuracy = model.evaluate(x_test,y_test)"
   ]
  },
  {
   "cell_type": "code",
   "execution_count": 10,
   "id": "bca29193",
   "metadata": {},
   "outputs": [
    {
     "data": {
      "text/plain": [
       "0.9133999943733215"
      ]
     },
     "execution_count": 10,
     "metadata": {},
     "output_type": "execute_result"
    }
   ],
   "source": [
    "accuracy"
   ]
  },
  {
   "cell_type": "code",
   "execution_count": 11,
   "id": "a5c64fc5",
   "metadata": {},
   "outputs": [
    {
     "name": "stdout",
     "output_type": "stream",
     "text": [
      "Requirement already satisfied: h5py in c:\\users\\karu0\\anaconda3\\lib\\site-packages (3.8.0)\n",
      "Requirement already satisfied: numpy>=1.14.5 in c:\\users\\karu0\\anaconda3\\lib\\site-packages (from h5py) (1.23.5)\n",
      "Note: you may need to restart the kernel to use updated packages.\n"
     ]
    }
   ],
   "source": [
    "pip install h5py"
   ]
  },
  {
   "cell_type": "code",
   "execution_count": 12,
   "id": "98e35cd1",
   "metadata": {},
   "outputs": [],
   "source": [
    "import h5py\n",
    "model.save('CNN_final_model.h5')"
   ]
  },
  {
   "cell_type": "code",
   "execution_count": 75,
   "id": "1b3f8df8",
   "metadata": {},
   "outputs": [],
   "source": [
    "from tensorflow.keras.utils import load_img\n",
    "from tensorflow.keras.utils import img_to_array\n",
    "from keras.models import load_model\n",
    "\n",
    "def image_classify(filename):\n",
    "    img = load_img(filename,grayscale=True, target_size=(28, 28))\n",
    "    img = img_to_array(img)\n",
    "    img = img.reshape(1,28,28,1)\n",
    "    img = img.astype(np.float32)/255\n",
    "    \n",
    "    model = load_model('CNN_final_model.h5')\n",
    "    array_pred =  model.predict(img)\n",
    "    array_pred = np.argsort(-array_pred)\n",
    "    return array_pred[0][0]        "
   ]
  },
  {
   "cell_type": "code",
   "execution_count": 77,
   "id": "6c9f7b48",
   "metadata": {},
   "outputs": [
    {
     "name": "stdout",
     "output_type": "stream",
     "text": [
      "1/1 [==============================] - 0s 42ms/step\n"
     ]
    },
    {
     "data": {
      "text/plain": [
       "8"
      ]
     },
     "execution_count": 77,
     "metadata": {},
     "output_type": "execute_result"
    }
   ],
   "source": [
    "image_classify(r'C:\\Users\\karu0\\Machine Learning\\PRACTICE\\PRACTICALS\\sample.png')\n"
   ]
  },
  {
   "cell_type": "code",
   "execution_count": 79,
   "id": "911ad41d",
   "metadata": {},
   "outputs": [
    {
     "data": {
      "text/plain": [
       "[<matplotlib.lines.Line2D at 0x200cb16a640>]"
      ]
     },
     "execution_count": 79,
     "metadata": {},
     "output_type": "execute_result"
    },
    {
     "data": {
      "image/png": "[encoded data removed]",
      "text/plain": [
       "<Figure size 640x480 with 1 Axes>"
      ]
     },
     "metadata": {},
     "output_type": "display_data"
    }
   ],
   "source": [
    "plt.plot(50,accuracy)"
   ]
  },
  {
   "cell_type": "code",
   "execution_count": null,
   "id": "401aa921",
   "metadata": {},
   "outputs": [],
   "source": []
  }
 ],
 "metadata": {
  "kernelspec": {
   "display_name": "Python 3 (ipykernel)",
   "language": "python",
   "name": "python3"
  },
  "language_info": {
   "codemirror_mode": {
    "name": "ipython",
    "version": 3
   },
   "file_extension": ".py",
   "mimetype": "text/x-python",
   "name": "python",
   "nbconvert_exporter": "python",
   "pygments_lexer": "ipython3",
   "version": "3.8.13"
  }
 },
 "nbformat": 4,
 "nbformat_minor": 5
}
