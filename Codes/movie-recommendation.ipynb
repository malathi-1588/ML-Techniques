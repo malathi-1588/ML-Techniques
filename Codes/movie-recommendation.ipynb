{
 "cells": [
  {
   "cell_type": "code",
   "execution_count": 1,
   "id": "e37ef7a8",
   "metadata": {},
   "outputs": [],
   "source": [
    "import pandas as pd\n",
    "import numpy as np\n",
    "from scipy import sparse\n",
    "movies = pd.read_csv(r\"C:\\Users\\JAYANKONDAN\\Documents\\college hw\\Netflix_Dataset_Movie.csv\")\n",
    "ratings = pd.read_csv(r\"C:\\Users\\JAYANKONDAN\\Documents\\college hw\\Netflix_Dataset_Rating.csv\")"
   ]
  },
  {
   "cell_type": "code",
   "execution_count": 2,
   "id": "dd146a3a",
   "metadata": {},
   "outputs": [
    {
     "data": {
      "text/html": [
       "<div>\n",
       "<style scoped>\n",
       "    .dataframe tbody tr th:only-of-type {\n",
       "        vertical-align: middle;\n",
       "    }\n",
       "\n",
       "    .dataframe tbody tr th {\n",
       "        vertical-align: top;\n",
       "    }\n",
       "\n",
       "    .dataframe thead th {\n",
       "        text-align: right;\n",
       "    }\n",
       "</style>\n",
       "<table border=\"1\" class=\"dataframe\">\n",
       "  <thead>\n",
       "    <tr style=\"text-align: right;\">\n",
       "      <th></th>\n",
       "      <th>Movie_ID</th>\n",
       "      <th>Year</th>\n",
       "      <th>Name</th>\n",
       "    </tr>\n",
       "  </thead>\n",
       "  <tbody>\n",
       "    <tr>\n",
       "      <th>0</th>\n",
       "      <td>1</td>\n",
       "      <td>2003</td>\n",
       "      <td>Dinosaur Planet</td>\n",
       "    </tr>\n",
       "    <tr>\n",
       "      <th>1</th>\n",
       "      <td>2</td>\n",
       "      <td>2004</td>\n",
       "      <td>Isle of Man TT 2004 Review</td>\n",
       "    </tr>\n",
       "    <tr>\n",
       "      <th>2</th>\n",
       "      <td>3</td>\n",
       "      <td>1997</td>\n",
       "      <td>Character</td>\n",
       "    </tr>\n",
       "    <tr>\n",
       "      <th>3</th>\n",
       "      <td>4</td>\n",
       "      <td>1994</td>\n",
       "      <td>Paula Abdul's Get Up &amp; Dance</td>\n",
       "    </tr>\n",
       "    <tr>\n",
       "      <th>4</th>\n",
       "      <td>5</td>\n",
       "      <td>2004</td>\n",
       "      <td>The Rise and Fall of ECW</td>\n",
       "    </tr>\n",
       "  </tbody>\n",
       "</table>\n",
       "</div>"
      ],
      "text/plain": [
       "   Movie_ID  Year                          Name\n",
       "0         1  2003               Dinosaur Planet\n",
       "1         2  2004    Isle of Man TT 2004 Review\n",
       "2         3  1997                     Character\n",
       "3         4  1994  Paula Abdul's Get Up & Dance\n",
       "4         5  2004      The Rise and Fall of ECW"
      ]
     },
     "execution_count": 2,
     "metadata": {},
     "output_type": "execute_result"
    }
   ],
   "source": [
    "movies.head()"
   ]
  },
  {
   "cell_type": "code",
   "execution_count": 3,
   "id": "96a5bff0",
   "metadata": {},
   "outputs": [
    {
     "data": {
      "text/html": [
       "<div>\n",
       "<style scoped>\n",
       "    .dataframe tbody tr th:only-of-type {\n",
       "        vertical-align: middle;\n",
       "    }\n",
       "\n",
       "    .dataframe tbody tr th {\n",
       "        vertical-align: top;\n",
       "    }\n",
       "\n",
       "    .dataframe thead th {\n",
       "        text-align: right;\n",
       "    }\n",
       "</style>\n",
       "<table border=\"1\" class=\"dataframe\">\n",
       "  <thead>\n",
       "    <tr style=\"text-align: right;\">\n",
       "      <th></th>\n",
       "      <th>User_ID</th>\n",
       "      <th>Rating</th>\n",
       "      <th>Movie_ID</th>\n",
       "    </tr>\n",
       "  </thead>\n",
       "  <tbody>\n",
       "    <tr>\n",
       "      <th>0</th>\n",
       "      <td>712664</td>\n",
       "      <td>5</td>\n",
       "      <td>3</td>\n",
       "    </tr>\n",
       "    <tr>\n",
       "      <th>1</th>\n",
       "      <td>1331154</td>\n",
       "      <td>4</td>\n",
       "      <td>3</td>\n",
       "    </tr>\n",
       "    <tr>\n",
       "      <th>2</th>\n",
       "      <td>2632461</td>\n",
       "      <td>3</td>\n",
       "      <td>3</td>\n",
       "    </tr>\n",
       "    <tr>\n",
       "      <th>3</th>\n",
       "      <td>44937</td>\n",
       "      <td>5</td>\n",
       "      <td>3</td>\n",
       "    </tr>\n",
       "    <tr>\n",
       "      <th>4</th>\n",
       "      <td>656399</td>\n",
       "      <td>4</td>\n",
       "      <td>3</td>\n",
       "    </tr>\n",
       "  </tbody>\n",
       "</table>\n",
       "</div>"
      ],
      "text/plain": [
       "   User_ID  Rating  Movie_ID\n",
       "0   712664       5         3\n",
       "1  1331154       4         3\n",
       "2  2632461       3         3\n",
       "3    44937       5         3\n",
       "4   656399       4         3"
      ]
     },
     "execution_count": 3,
     "metadata": {},
     "output_type": "execute_result"
    }
   ],
   "source": [
    "ratings.head()"
   ]
  },
  {
   "cell_type": "code",
   "execution_count": 117,
   "id": "994f527d",
   "metadata": {},
   "outputs": [
    {
     "data": {
      "text/html": [
       "<div>\n",
       "<style scoped>\n",
       "    .dataframe tbody tr th:only-of-type {\n",
       "        vertical-align: middle;\n",
       "    }\n",
       "\n",
       "    .dataframe tbody tr th {\n",
       "        vertical-align: top;\n",
       "    }\n",
       "\n",
       "    .dataframe thead th {\n",
       "        text-align: right;\n",
       "    }\n",
       "</style>\n",
       "<table border=\"1\" class=\"dataframe\">\n",
       "  <thead>\n",
       "    <tr style=\"text-align: right;\">\n",
       "      <th></th>\n",
       "      <th>User_ID</th>\n",
       "      <th>Rating</th>\n",
       "      <th>Movie_ID</th>\n",
       "      <th>User</th>\n",
       "      <th>Movie</th>\n",
       "    </tr>\n",
       "  </thead>\n",
       "  <tbody>\n",
       "    <tr>\n",
       "      <th>0</th>\n",
       "      <td>712664</td>\n",
       "      <td>2</td>\n",
       "      <td>3</td>\n",
       "      <td>38885</td>\n",
       "      <td>0</td>\n",
       "    </tr>\n",
       "    <tr>\n",
       "      <th>1</th>\n",
       "      <td>1331154</td>\n",
       "      <td>1</td>\n",
       "      <td>3</td>\n",
       "      <td>72494</td>\n",
       "      <td>0</td>\n",
       "    </tr>\n",
       "    <tr>\n",
       "      <th>2</th>\n",
       "      <td>2632461</td>\n",
       "      <td>0</td>\n",
       "      <td>3</td>\n",
       "      <td>142536</td>\n",
       "      <td>0</td>\n",
       "    </tr>\n",
       "    <tr>\n",
       "      <th>3</th>\n",
       "      <td>44937</td>\n",
       "      <td>2</td>\n",
       "      <td>3</td>\n",
       "      <td>2467</td>\n",
       "      <td>0</td>\n",
       "    </tr>\n",
       "    <tr>\n",
       "      <th>4</th>\n",
       "      <td>656399</td>\n",
       "      <td>1</td>\n",
       "      <td>3</td>\n",
       "      <td>35784</td>\n",
       "      <td>0</td>\n",
       "    </tr>\n",
       "  </tbody>\n",
       "</table>\n",
       "</div>"
      ],
      "text/plain": [
       "   User_ID  Rating  Movie_ID    User  Movie\n",
       "0   712664       2         3   38885      0\n",
       "1  1331154       1         3   72494      0\n",
       "2  2632461       0         3  142536      0\n",
       "3    44937       2         3    2467      0\n",
       "4   656399       1         3   35784      0"
      ]
     },
     "execution_count": 117,
     "metadata": {},
     "output_type": "execute_result"
    }
   ],
   "source": [
    "ratings['User'] = ratings['User_ID'].astype('category').cat.codes\n",
    "ratings['Movie'] = ratings['Movie_ID'].astype('category').cat.codes\n",
    "ratings['Rating'] = ratings['Rating'].transform( lambda x: x-3 if x!=0 else 0)\n",
    "ratings.head()"
   ]
  },
  {
   "cell_type": "code",
   "execution_count": 118,
   "id": "c05bc585",
   "metadata": {},
   "outputs": [],
   "source": [
    "mat = sparse.coo_matrix((ratings['Rating'], (ratings['User'],ratings['Movie'])))"
   ]
  },
  {
   "cell_type": "code",
   "execution_count": 119,
   "id": "c879a8d7",
   "metadata": {},
   "outputs": [],
   "source": [
    "mat1 = mat.tocsr()"
   ]
  },
  {
   "cell_type": "markdown",
   "id": "3588b19a",
   "metadata": {},
   "source": [
    "# JACCARD similarity"
   ]
  },
  {
   "cell_type": "code",
   "execution_count": 120,
   "id": "931ed0fb",
   "metadata": {},
   "outputs": [],
   "source": [
    "def jacsim(user):\n",
    "    col = mat1[user].toarray().flatten()\n",
    "    \n",
    "    a = (col!=0).astype(int)\n",
    "    b = (mat1!=0).astype(int)\n",
    "    sim_users = a@b.T\n",
    "    \n",
    "    s1 = np.array(np.sum(b,axis=1)).flatten()\n",
    "    s2 = np.sum(a)\n",
    "\n",
    "    sim_users = sim_users/(s1 +s2 -sim_users)\n",
    "    ind = (-sim_users).argsort()\n",
    "    \n",
    "    return ind"
   ]
  },
  {
   "cell_type": "code",
   "execution_count": 121,
   "id": "5d711344",
   "metadata": {},
   "outputs": [
    {
     "data": {
      "text/plain": [
       "array([   75, 31668, 66257, 55320, 60936, 87492, 77865, 76088, 75861,\n",
       "        7110], dtype=int64)"
      ]
     },
     "execution_count": 121,
     "metadata": {},
     "output_type": "execute_result"
    }
   ],
   "source": [
    "jacsim(75)[:10]"
   ]
  },
  {
   "cell_type": "markdown",
   "id": "4e59f9ef",
   "metadata": {},
   "source": [
    "# COSINE similarity"
   ]
  },
  {
   "cell_type": "code",
   "execution_count": 122,
   "id": "627c3bc5",
   "metadata": {},
   "outputs": [],
   "source": [
    "def cossim(user):\n",
    "    col = mat1[user].toarray()[0]\n",
    "    \n",
    "    sim = col@mat1.T\n",
    "    a = np.array(np.sum(mat1.power(2),axis=1)).flatten()\n",
    "    b = np.sum(col**2)\n",
    "    \n",
    "    sim = sim/((a**0.5)*(b**0.5))\n",
    "    ind = (-sim).argsort()\n",
    "    \n",
    "    return ind"
   ]
  },
  {
   "cell_type": "code",
   "execution_count": 123,
   "id": "9403a9c4",
   "metadata": {},
   "outputs": [
    {
     "name": "stderr",
     "output_type": "stream",
     "text": [
      "C:\\Users\\JAYANK~1\\AppData\\Local\\Temp/ipykernel_13492/263940307.py:8: RuntimeWarning: invalid value encountered in true_divide\n",
      "  sim = sim/((a**0.5)*(b**0.5))\n"
     ]
    },
    {
     "data": {
      "text/plain": [
       "array([    75,  90360, 103205,  60336,  82069,  95523,    176,  66532,\n",
       "       131699,  29536], dtype=int64)"
      ]
     },
     "execution_count": 123,
     "metadata": {},
     "output_type": "execute_result"
    }
   ],
   "source": [
    "cossim(75)[:10]"
   ]
  },
  {
   "cell_type": "code",
   "execution_count": 124,
   "id": "e92b0c1b",
   "metadata": {},
   "outputs": [],
   "source": [
    "def recommend(user,number_of_movies=5):\n",
    "    u1 = jacsim(user)[1]\n",
    "    u2 = cossim(user)[1]\n",
    "    \n",
    "    col = mat1[user].toarray()[0]\n",
    "    a = mat1[u1].toarray()[0]\n",
    "    print(\"jaccard similarity\",u1)\n",
    "    a = a*(col==0)\n",
    "    ind = (-a).argsort()\n",
    "    print(movies.iloc[ind[:5]])\n",
    "    \n",
    "    b = mat1[u2].toarray()[0]\n",
    "    print(\"cosine similarity\",u2)\n",
    "    b = b*(col==0)\n",
    "    ind = (-b).argsort()\n",
    "    print(movies.iloc[ind[:5]])"
   ]
  },
  {
   "cell_type": "markdown",
   "id": "3f14a27e",
   "metadata": {},
   "source": [
    "### Recommendations from system using similar user"
   ]
  },
  {
   "cell_type": "code",
   "execution_count": 125,
   "id": "44610e3b",
   "metadata": {},
   "outputs": [
    {
     "name": "stdout",
     "output_type": "stream",
     "text": [
      "jaccard similarity 95719\n",
      "      Movie_ID  Year                Name\n",
      "1294      1295  1983        Strange Brew\n",
      "878        879  1976     Mikey and Nicky\n",
      "719        720  1989          Roger & Me\n",
      "38          39  2000     Love Reinvented\n",
      "721        722  2003  The Wire: Season 1\n",
      "cosine similarity 115399\n",
      "      Movie_ID  Year                              Name\n",
      "1151      1152  1999                          Charisma\n",
      "223        224  1999  Midsomer Murders: Blood Will Out\n",
      "436        437  2005           Beyblade: Fierce Battle\n",
      "920        921  1952             Don't Bother to Knock\n",
      "1314      1315  2001                    Guns and Talks\n"
     ]
    },
    {
     "name": "stderr",
     "output_type": "stream",
     "text": [
      "C:\\Users\\JAYANK~1\\AppData\\Local\\Temp/ipykernel_13492/263940307.py:8: RuntimeWarning: invalid value encountered in true_divide\n",
      "  sim = sim/((a**0.5)*(b**0.5))\n"
     ]
    }
   ],
   "source": [
    "recommend(69)"
   ]
  },
  {
   "cell_type": "markdown",
   "id": "d87cda4e",
   "metadata": {},
   "source": [
    "### The movies that the person has seen"
   ]
  },
  {
   "cell_type": "code",
   "execution_count": 126,
   "id": "de2422d8",
   "metadata": {},
   "outputs": [
    {
     "data": {
      "text/html": [
       "<div>\n",
       "<style scoped>\n",
       "    .dataframe tbody tr th:only-of-type {\n",
       "        vertical-align: middle;\n",
       "    }\n",
       "\n",
       "    .dataframe tbody tr th {\n",
       "        vertical-align: top;\n",
       "    }\n",
       "\n",
       "    .dataframe thead th {\n",
       "        text-align: right;\n",
       "    }\n",
       "</style>\n",
       "<table border=\"1\" class=\"dataframe\">\n",
       "  <thead>\n",
       "    <tr style=\"text-align: right;\">\n",
       "      <th></th>\n",
       "      <th>Movie_ID</th>\n",
       "      <th>Year</th>\n",
       "      <th>Name</th>\n",
       "    </tr>\n",
       "  </thead>\n",
       "  <tbody>\n",
       "    <tr>\n",
       "      <th>1291</th>\n",
       "      <td>1292</td>\n",
       "      <td>2002</td>\n",
       "      <td>Ararat</td>\n",
       "    </tr>\n",
       "    <tr>\n",
       "      <th>1107</th>\n",
       "      <td>1108</td>\n",
       "      <td>2000</td>\n",
       "      <td>Dr. Andrew Weil: 8 Weeks to Optimum Health &amp; S...</td>\n",
       "    </tr>\n",
       "    <tr>\n",
       "      <th>479</th>\n",
       "      <td>480</td>\n",
       "      <td>1997</td>\n",
       "      <td>Flypaper</td>\n",
       "    </tr>\n",
       "    <tr>\n",
       "      <th>92</th>\n",
       "      <td>93</td>\n",
       "      <td>2004</td>\n",
       "      <td>They Came Back</td>\n",
       "    </tr>\n",
       "    <tr>\n",
       "      <th>1304</th>\n",
       "      <td>1305</td>\n",
       "      <td>2003</td>\n",
       "      <td>Thirteen</td>\n",
       "    </tr>\n",
       "    <tr>\n",
       "      <th>190</th>\n",
       "      <td>191</td>\n",
       "      <td>2003</td>\n",
       "      <td>X2: X-Men United</td>\n",
       "    </tr>\n",
       "    <tr>\n",
       "      <th>275</th>\n",
       "      <td>276</td>\n",
       "      <td>1998</td>\n",
       "      <td>Cold Harvest</td>\n",
       "    </tr>\n",
       "    <tr>\n",
       "      <th>87</th>\n",
       "      <td>88</td>\n",
       "      <td>1998</td>\n",
       "      <td>Record of Lodoss War: Chronicles of the Heroic...</td>\n",
       "    </tr>\n",
       "    <tr>\n",
       "      <th>814</th>\n",
       "      <td>815</td>\n",
       "      <td>1959</td>\n",
       "      <td>Tiger Bay</td>\n",
       "    </tr>\n",
       "    <tr>\n",
       "      <th>284</th>\n",
       "      <td>285</td>\n",
       "      <td>1997</td>\n",
       "      <td>The Devil's Own</td>\n",
       "    </tr>\n",
       "    <tr>\n",
       "      <th>931</th>\n",
       "      <td>932</td>\n",
       "      <td>1992</td>\n",
       "      <td>Where Are We?</td>\n",
       "    </tr>\n",
       "    <tr>\n",
       "      <th>80</th>\n",
       "      <td>81</td>\n",
       "      <td>1991</td>\n",
       "      <td>Antarctica: IMAX</td>\n",
       "    </tr>\n",
       "    <tr>\n",
       "      <th>754</th>\n",
       "      <td>755</td>\n",
       "      <td>1989</td>\n",
       "      <td>Music Box</td>\n",
       "    </tr>\n",
       "    <tr>\n",
       "      <th>61</th>\n",
       "      <td>62</td>\n",
       "      <td>1991</td>\n",
       "      <td>Ken Burns' America: Empire of the Air</td>\n",
       "    </tr>\n",
       "    <tr>\n",
       "      <th>1191</th>\n",
       "      <td>1192</td>\n",
       "      <td>2004</td>\n",
       "      <td>Masters of Poker: Phil Hellmuth's Million Doll...</td>\n",
       "    </tr>\n",
       "    <tr>\n",
       "      <th>659</th>\n",
       "      <td>660</td>\n",
       "      <td>2000</td>\n",
       "      <td>Saving Grace</td>\n",
       "    </tr>\n",
       "    <tr>\n",
       "      <th>746</th>\n",
       "      <td>747</td>\n",
       "      <td>1996</td>\n",
       "      <td>Saber Marionette J</td>\n",
       "    </tr>\n",
       "    <tr>\n",
       "      <th>371</th>\n",
       "      <td>372</td>\n",
       "      <td>1998</td>\n",
       "      <td>Jeans</td>\n",
       "    </tr>\n",
       "    <tr>\n",
       "      <th>743</th>\n",
       "      <td>744</td>\n",
       "      <td>1998</td>\n",
       "      <td>Hot War</td>\n",
       "    </tr>\n",
       "    <tr>\n",
       "      <th>828</th>\n",
       "      <td>829</td>\n",
       "      <td>1995</td>\n",
       "      <td>Serial Mom</td>\n",
       "    </tr>\n",
       "  </tbody>\n",
       "</table>\n",
       "</div>"
      ],
      "text/plain": [
       "      Movie_ID  Year                                               Name\n",
       "1291      1292  2002                                             Ararat\n",
       "1107      1108  2000  Dr. Andrew Weil: 8 Weeks to Optimum Health & S...\n",
       "479        480  1997                                           Flypaper\n",
       "92          93  2004                                     They Came Back\n",
       "1304      1305  2003                                           Thirteen\n",
       "190        191  2003                                   X2: X-Men United\n",
       "275        276  1998                                       Cold Harvest\n",
       "87          88  1998  Record of Lodoss War: Chronicles of the Heroic...\n",
       "814        815  1959                                          Tiger Bay\n",
       "284        285  1997                                    The Devil's Own\n",
       "931        932  1992                                      Where Are We?\n",
       "80          81  1991                                   Antarctica: IMAX\n",
       "754        755  1989                                          Music Box\n",
       "61          62  1991              Ken Burns' America: Empire of the Air\n",
       "1191      1192  2004  Masters of Poker: Phil Hellmuth's Million Doll...\n",
       "659        660  2000                                       Saving Grace\n",
       "746        747  1996                                 Saber Marionette J\n",
       "371        372  1998                                              Jeans\n",
       "743        744  1998                                            Hot War\n",
       "828        829  1995                                         Serial Mom"
      ]
     },
     "execution_count": 126,
     "metadata": {},
     "output_type": "execute_result"
    }
   ],
   "source": [
    "a = mat1[69].toarray()[0]\n",
    "ind = (-a).argsort()\n",
    "movies.iloc[ind[:20]]"
   ]
  },
  {
   "cell_type": "code",
   "execution_count": null,
   "id": "1df87e68",
   "metadata": {},
   "outputs": [],
   "source": []
  }
 ],
 "metadata": {
  "kernelspec": {
   "display_name": "Python 3 (ipykernel)",
   "language": "python",
   "name": "python3"
  },
  "language_info": {
   "codemirror_mode": {
    "name": "ipython",
    "version": 3
   },
   "file_extension": ".py",
   "mimetype": "text/x-python",
   "name": "python",
   "nbconvert_exporter": "python",
   "pygments_lexer": "ipython3",
   "version": "3.8.13"
  }
 },
 "nbformat": 4,
 "nbformat_minor": 5
}
